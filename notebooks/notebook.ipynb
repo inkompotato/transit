{
 "cells": [
  {
   "cell_type": "markdown",
   "metadata": {},
   "source": [
    "# Transit\n",
    "Analyzing public transit based on GTFS as well as real-time data\n",
    "\n",
    "`import <rust module name defined in lib.rs>` to add the python module implemented in rust.\n",
    "\n",
    "`sys.path.append(os.getcwd() + \"/../python/\")` to add a python module location. Then `import <filename>` to get access to the module written in pyton.\n"
   ]
  },
  {
   "cell_type": "markdown",
   "metadata": {},
   "source": [
    "## Ideas\n",
    "* build a graph out of the transit network, using rust\n",
    "* encode stops using H3 (https://h3geo.org/)\n",
    "* calculate distance to stops using the H3 hexagons\n",
    "* use rejseplanen realtime api to connect the graph.\n",
    "    * at every call, the graph will change.\n",
    "    * update frequency data\n",
    "    * update punctuality data\n",
    "    * update routes\n",
    "* visualize the living network\n",
    "* system should accept any gtfs data and be able to work with it.\n",
    "    * custom add-on for rejseplanen real time data\n",
    "* transit accessibility calculation\n",
    "    * distance to near stops\n",
    "    * frequency at near stops\n",
    "    * randomized route calculation, comparison with other modes\n",
    "        * weigh points of interest\n",
    "        * try to simulate real transit needs"
   ]
  },
  {
   "cell_type": "code",
   "execution_count": null,
   "metadata": {},
   "outputs": [],
   "source": [
    "%pip install keplergl"
   ]
  },
  {
   "cell_type": "code",
   "execution_count": 1,
   "metadata": {},
   "outputs": [],
   "source": [
    "import os\n",
    "import sys\n",
    "import rs_transit\n",
    "\n",
    "sys.path.append(os.getcwd() + \"/../python/\")\n",
    "from mymodule import customModule\n",
    "\n",
    "import pandas as pd\n",
    "import json\n"
   ]
  },
  {
   "cell_type": "code",
   "execution_count": null,
   "metadata": {},
   "outputs": [],
   "source": [
    "rs_transit.gtfs_reader(\"../resources/rejseplanen.zip\")"
   ]
  },
  {
   "cell_type": "code",
   "execution_count": 7,
   "metadata": {},
   "outputs": [
    {
     "name": "stdout",
     "output_type": "stream",
     "text": [
      "User Guide: https://docs.kepler.gl/docs/keplergl-jupyter\n",
      "Map saved to keplergl_map.html!\n"
     ]
    }
   ],
   "source": [
    "from keplergl import KeplerGl\n",
    "map = KeplerGl(height=500, data={'stops': df})\n",
    "map.save_to_html()"
   ]
  }
 ],
 "metadata": {
  "interpreter": {
   "hash": "d4d1e4263499bec80672ea0156c357c1ee493ec2b1c70f0acce89fc37c4a6abe"
  },
  "kernelspec": {
   "display_name": "Python 3.9.7 ('base')",
   "language": "python",
   "name": "python3"
  },
  "language_info": {
   "codemirror_mode": {
    "name": "ipython",
    "version": 3
   },
   "file_extension": ".py",
   "mimetype": "text/x-python",
   "name": "python",
   "nbconvert_exporter": "python",
   "pygments_lexer": "ipython3",
   "version": "3.9.10"
  },
  "orig_nbformat": 4
 },
 "nbformat": 4,
 "nbformat_minor": 2
}
