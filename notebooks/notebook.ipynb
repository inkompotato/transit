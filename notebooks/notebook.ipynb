{
 "cells": [
  {
   "cell_type": "markdown",
   "metadata": {},
   "source": [
    "# Example notebook\n",
    "\n",
    "`import <rust module name defined in lib.rs>` to add the python module implemented in rust.\n",
    "\n",
    "`sys.path.append(os.getcwd() + \"/../python/\")` to add a python module location. Then `import <filename>` to get access to the module written in pyton.\n"
   ]
  },
  {
   "cell_type": "code",
   "execution_count": 22,
   "metadata": {},
   "outputs": [
    {
     "name": "stdout",
     "output_type": "stream",
     "text": [
      "hello world from python\n",
      "None\n",
      "25\n"
     ]
    }
   ],
   "source": [
    "import skybrain\n",
    "import os\n",
    "import sys\n",
    "\n",
    "sys.path.append(os.getcwd() + \"/../python/\")\n",
    "from mymodule import customModule\n",
    "\n",
    "print(customModule.hello())\n",
    "print(skybrain.sum_as_string(5, 20))"
   ]
  }
 ],
 "metadata": {
  "interpreter": {
   "hash": "d4d1e4263499bec80672ea0156c357c1ee493ec2b1c70f0acce89fc37c4a6abe"
  },
  "kernelspec": {
   "display_name": "Python 3.9.7 ('base')",
   "language": "python",
   "name": "python3"
  },
  "language_info": {
   "codemirror_mode": {
    "name": "ipython",
    "version": 3
   },
   "file_extension": ".py",
   "mimetype": "text/x-python",
   "name": "python",
   "nbconvert_exporter": "python",
   "pygments_lexer": "ipython3",
   "version": "3.9.7"
  },
  "orig_nbformat": 4
 },
 "nbformat": 4,
 "nbformat_minor": 2
}
