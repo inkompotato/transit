{
 "cells": [
  {
   "cell_type": "code",
   "execution_count": 1,
   "metadata": {},
   "outputs": [
    {
     "name": "stdout",
     "output_type": "stream",
     "text": [
      "Requirement already satisfied: h3 in /opt/conda/envs/myenv/lib/python3.10/site-packages (3.7.4)\n",
      "Note: you may need to restart the kernel to use updated packages.\n",
      "Requirement already satisfied: tqdm in /opt/conda/envs/myenv/lib/python3.10/site-packages (4.64.0)\n",
      "Note: you may need to restart the kernel to use updated packages.\n",
      "Requirement already satisfied: psycopg[binary] in /opt/conda/envs/myenv/lib/python3.10/site-packages (3.0.11)\n",
      "Requirement already satisfied: psycopg-binary==3.0.11 in /opt/conda/envs/myenv/lib/python3.10/site-packages (from psycopg[binary]) (3.0.11)\n",
      "Note: you may need to restart the kernel to use updated packages.\n"
     ]
    }
   ],
   "source": [
    "%pip install h3\n",
    "%pip install tqdm\n",
    "%pip install psycopg[binary]"
   ]
  },
  {
   "cell_type": "code",
   "execution_count": 1,
   "metadata": {},
   "outputs": [],
   "source": [
    "import h3\n",
    "import tqdm\n",
    "import json\n",
    "import numpy as np\n",
    "import pandas as pd\n",
    "import asyncio\n",
    "import psycopg"
   ]
  },
  {
   "cell_type": "markdown",
   "metadata": {},
   "source": [
    "### Calculate Transit Accessibility Scores\n",
    "#### Cell types:\n",
    "* `-1`: geo cell, no station here\n",
    "* ` 0`: bus stop\n",
    "* ` 1`: tram / ferry stop\n",
    "* ` 2`: metro / s-tog station\n",
    "* ` 3`: train station\n"
   ]
  },
  {
   "cell_type": "code",
   "execution_count": 53,
   "metadata": {},
   "outputs": [],
   "source": [
    "H3_RES = 11\n",
    "HOURS = 24 * 7\n",
    "TRANSIT_TYPE = 2\n",
    "MAX_DISTANCE = 16"
   ]
  },
  {
   "cell_type": "code",
   "execution_count": 42,
   "metadata": {},
   "outputs": [],
   "source": [
    "DB_CONN = \"postgresql://postgres:byS*<7AxwYC#U24s@srv-captain--postgres-db-db/postgres\""
   ]
  },
  {
   "cell_type": "code",
   "execution_count": 59,
   "metadata": {},
   "outputs": [],
   "source": [
    "# reset scores in database\n",
    "async with await psycopg.AsyncConnection.connect(DB_CONN) as conn:\n",
    "    async with conn.cursor() as cursor:\n",
    "        await cursor.execute(f\"\"\"\n",
    "        update transit\n",
    "            set scores = array []::float4[], \n",
    "            visitors = array []::text[]\n",
    "            where cardinality(visitors) != 0\n",
    "        \"\"\")\n",
    "\n",
    "        await conn.commit()"
   ]
  },
  {
   "cell_type": "code",
   "execution_count": 44,
   "metadata": {},
   "outputs": [],
   "source": [
    "# for development only, select a specific h3_4 cell\n",
    "SELECTED_H3_4 = '841f059ffffffff'\n",
    "SELECTED_H3_4_QUERY = f\"and h3_4 = '{SELECTED_H3_4}'\""
   ]
  },
  {
   "cell_type": "markdown",
   "metadata": {},
   "source": [
    "#### Load entrypoint (station) data"
   ]
  },
  {
   "cell_type": "code",
   "execution_count": 60,
   "metadata": {},
   "outputs": [],
   "source": [
    "# load all stops for a specific type from the database\n",
    "async with await psycopg.AsyncConnection.connect(DB_CONN) as conn:\n",
    "    async with conn.cursor() as cursor:\n",
    "        await cursor.execute(f\"\"\"\n",
    "        select * from transit\n",
    "            where type = {TRANSIT_TYPE}\n",
    "            {SELECTED_H3_4_QUERY}\n",
    "        \"\"\")\n",
    "\n",
    "        stations = await cursor.fetchall()"
   ]
  },
  {
   "cell_type": "code",
   "execution_count": 61,
   "metadata": {},
   "outputs": [],
   "source": [
    "# add all stations to a queue\n",
    "queue = asyncio.Queue()\n",
    "for station in stations:\n",
    "    # (station origin h3 cell, current h3 cell, scores array, distance)\n",
    "    await queue.put((station[0], station[0], station[3], 0))"
   ]
  },
  {
   "cell_type": "markdown",
   "metadata": {},
   "source": [
    "#### Functions"
   ]
  },
  {
   "cell_type": "code",
   "execution_count": 62,
   "metadata": {},
   "outputs": [],
   "source": [
    "# define formula here\n",
    "async def calc_score(origin_scores, distance, type):\n",
    "    result_scores = []\n",
    "    for score in origin_scores:\n",
    "        if score > 1 and distance < MAX_DISTANCE:\n",
    "            result_scores.append(score - 1)\n",
    "        else:\n",
    "            result_scores.append(0)\n",
    "    return result_scores"
   ]
  },
  {
   "cell_type": "code",
   "execution_count": 63,
   "metadata": {},
   "outputs": [],
   "source": [
    "async def update_scores(origin_h3, current_h3, scores, distance):\n",
    "    print(f\"calculating {current_h3}, dist={distance}\")\n",
    "    # get h3 k-ring for origon_h3\n",
    "    neighbors = h3.k_ring(current_h3, k= 1)\n",
    "    neighbors.discard(current_h3)\n",
    "\n",
    "    # get neighbors from DB\n",
    "    async with await psycopg.AsyncConnection.connect(DB_CONN) as conn:\n",
    "        async with conn.cursor() as cursor:\n",
    "            await cursor.execute(\"\"\"\n",
    "                select h3 from transit\n",
    "                    where h3 = any(%s)\n",
    "                    and %s != all(visitors)\n",
    "            \"\"\", [list(neighbors), origin_h3])\n",
    "\n",
    "            db_neighbors = await cursor.fetchall()\n",
    "\n",
    "            # update scores for neighbors according to calc_score function\n",
    "            for neighbor in db_neighbors:\n",
    "                neighbor = neighbor[0]\n",
    "\n",
    "                score = await calc_score(scores, distance + 1, TRANSIT_TYPE)\n",
    "                if sum(score) > 0:\n",
    "                    await cursor.execute(f\"\"\"\n",
    "                        update transit\n",
    "                            set scores = array_cat(scores, array {score}),\n",
    "                            visitors = array_append(visitors, '{origin_h3}')\n",
    "                            where h3 = '{neighbor}'\n",
    "                    \"\"\")\n",
    "\n",
    "                    if distance < MAX_DISTANCE:\n",
    "                        await queue.put((origin_h3, neighbor, score, distance + 1))\n",
    "                    \n",
    "        await conn.commit()"
   ]
  },
  {
   "cell_type": "markdown",
   "metadata": {},
   "source": [
    "#### Execution Loop"
   ]
  },
  {
   "cell_type": "code",
   "execution_count": null,
   "metadata": {},
   "outputs": [],
   "source": [
    "while not queue.empty():\n",
    "    current = await queue.get()\n",
    "    await asyncio.gather(\n",
    "        update_scores(current[0], current[1], current[2], current[3])\n",
    "    )"
   ]
  },
  {
   "cell_type": "markdown",
   "metadata": {},
   "source": [
    "#### Aggregate results and export for visualization"
   ]
  },
  {
   "cell_type": "code",
   "execution_count": 73,
   "metadata": {},
   "outputs": [],
   "source": [
    "# get all h3_4 regions and perform the aggregation on a per-region basis\n",
    "async with await psycopg.AsyncConnection.connect(DB_CONN) as conn:\n",
    "    async with conn.cursor() as cursor:\n",
    "        await cursor.execute(\"\"\"\n",
    "        select distinct(h3_4) from transit\n",
    "        \"\"\")\n",
    "\n",
    "        h3_4_regions = await cursor.fetchall()"
   ]
  },
  {
   "cell_type": "code",
   "execution_count": 74,
   "metadata": {},
   "outputs": [
    {
     "data": {
      "text/plain": [
       "['8409927ffffffff',\n",
       " '8409935ffffffff',\n",
       " '8409937ffffffff',\n",
       " '841f001ffffffff',\n",
       " '841f009ffffffff',\n",
       " '841f00dffffffff',\n",
       " '841f041ffffffff',\n",
       " '841f043ffffffff',\n",
       " '841f045ffffffff',\n",
       " '841f047ffffffff',\n",
       " '841f049ffffffff',\n",
       " '841f04bffffffff',\n",
       " '841f04dffffffff',\n",
       " '841f051ffffffff',\n",
       " '841f055ffffffff',\n",
       " '841f059ffffffff',\n",
       " '841f05bffffffff',\n",
       " '841f05dffffffff',\n",
       " '841f065ffffffff',\n",
       " '841f06bffffffff',\n",
       " '841f06dffffffff',\n",
       " '841f0c9ffffffff',\n",
       " '841f15bffffffff',\n",
       " '841f205ffffffff',\n",
       " '841f207ffffffff',\n",
       " '841f209ffffffff',\n",
       " '841f20dffffffff',\n",
       " '841f211ffffffff',\n",
       " '841f217ffffffff',\n",
       " '841f219ffffffff',\n",
       " '841f221ffffffff',\n",
       " '841f223ffffffff',\n",
       " '841f225ffffffff',\n",
       " '841f227ffffffff',\n",
       " '841f229ffffffff',\n",
       " '841f22bffffffff',\n",
       " '841f22dffffffff',\n",
       " '841f231ffffffff',\n",
       " '841f233ffffffff',\n",
       " '841f235ffffffff',\n",
       " '841f237ffffffff',\n",
       " '841f23dffffffff',\n",
       " '841f241ffffffff',\n",
       " '841f243ffffffff',\n",
       " '841f245ffffffff',\n",
       " '841f247ffffffff',\n",
       " '841f24bffffffff',\n",
       " '841f251ffffffff',\n",
       " '841f253ffffffff',\n",
       " '841f255ffffffff',\n",
       " '841f257ffffffff',\n",
       " '841f25bffffffff',\n",
       " '841f25dffffffff',\n",
       " '841f261ffffffff',\n",
       " '841f263ffffffff',\n",
       " '841f265ffffffff',\n",
       " '841f267ffffffff',\n",
       " '841f269ffffffff',\n",
       " '841f26bffffffff',\n",
       " '841f26dffffffff',\n",
       " '841f281ffffffff',\n",
       " '841f285ffffffff',\n",
       " '841f289ffffffff',\n",
       " '841f28dffffffff',\n",
       " '841f2a1ffffffff',\n",
       " '841f2a7ffffffff',\n",
       " '841f2adffffffff',\n",
       " '841f2c1ffffffff',\n",
       " '841f2c3ffffffff',\n",
       " '841f2d5ffffffff',\n",
       " '841f2d7ffffffff',\n",
       " '841f2e1ffffffff',\n",
       " '841f2e3ffffffff',\n",
       " '841f2e5ffffffff',\n",
       " '841f2e7ffffffff',\n",
       " '841f2ebffffffff',\n",
       " '841f2edffffffff',\n",
       " '841f311ffffffff',\n",
       " '841f313ffffffff',\n",
       " '841f315ffffffff',\n",
       " '841f317ffffffff',\n",
       " '841f319ffffffff',\n",
       " '841f31bffffffff',\n",
       " '841f31dffffffff',\n",
       " '841f351ffffffff',\n",
       " '841f353ffffffff',\n",
       " '841f355ffffffff',\n",
       " '841f357ffffffff',\n",
       " '841f359ffffffff',\n",
       " '841f35bffffffff']"
      ]
     },
     "execution_count": 74,
     "metadata": {},
     "output_type": "execute_result"
    }
   ],
   "source": [
    "h3_4_regions = list(map(lambda row: row[0], h3_4_regions))\n",
    "h3_4_regions"
   ]
  },
  {
   "cell_type": "code",
   "execution_count": 122,
   "metadata": {},
   "outputs": [],
   "source": [
    "async def aggregate_region(h3_4):\n",
    "    # load the results for a single region\n",
    "    async with await psycopg.AsyncConnection.connect(DB_CONN) as conn:\n",
    "        async with conn.cursor() as cursor:\n",
    "            await cursor.execute(f\"\"\"\n",
    "            select h3_10, freq, scores, cardinality(visitors), type from transit\n",
    "                where h3_4 = '{h3_4}'\n",
    "                and cardinality(visitors) > 0\n",
    "                order by h3_10\n",
    "            \"\"\")\n",
    "\n",
    "            hexagons = await cursor.fetchall()\n",
    "            return hexagons\n",
    "\n"
   ]
  },
  {
   "cell_type": "code",
   "execution_count": 123,
   "metadata": {},
   "outputs": [],
   "source": [
    "hexagons = await aggregate_region(SELECTED_H3_4)"
   ]
  },
  {
   "cell_type": "code",
   "execution_count": 128,
   "metadata": {},
   "outputs": [],
   "source": [
    "result = []\n",
    "for group in pd.DataFrame(hexagons, columns=['h3', 'freq', 'scores', 'cardinality', 'type']).groupby('h3'):\n",
    "    score_sum = np.array([0]*HOURS)\n",
    "    \n",
    "    for idx, array in enumerate(group[1]['scores']):\n",
    "        cardinality = group[1]['cardinality'].iloc[idx]\n",
    "        for subarray in np.array_split(array, cardinality):\n",
    "            score_sum = np.add(score_sum, subarray)\n",
    "        score_sum = np.add(score_sum, group[1]['freq'].iloc[idx])\n",
    "    result.append([group[0], max(group[1]['type']), list(score_sum)])\n",
    "\n",
    "pd.DataFrame(result, columns=['h3', 'type', 'freq']).to_json(f\"../docs/h3/{SELECTED_H3_4}.json\", orient='records')"
   ]
  }
 ],
 "metadata": {
  "interpreter": {
   "hash": "266e07f64aa3f1afd9991a0b824d04fa241a0ccb3b0a1eb69e96cbe416527717"
  },
  "kernelspec": {
   "display_name": "spylon-kernel",
   "language": "python",
   "name": "python3"
  },
  "language_info": {
   "codemirror_mode": {
    "name": "ipython",
    "version": 3
   },
   "file_extension": ".py",
   "mimetype": "text/x-python",
   "name": "python",
   "nbconvert_exporter": "python",
   "pygments_lexer": "ipython3",
   "version": "3.10.4"
  },
  "orig_nbformat": 4
 },
 "nbformat": 4,
 "nbformat_minor": 2
}
