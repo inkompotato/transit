{
 "cells": [
  {
   "cell_type": "code",
   "execution_count": 1,
   "metadata": {},
   "outputs": [
    {
     "name": "stdout",
     "output_type": "stream",
     "text": [
      "Requirement already satisfied: h3 in /opt/conda/envs/myenv/lib/python3.10/site-packages (3.7.4)\n",
      "Note: you may need to restart the kernel to use updated packages.\n",
      "Requirement already satisfied: tqdm in /opt/conda/envs/myenv/lib/python3.10/site-packages (4.64.0)\n",
      "Note: you may need to restart the kernel to use updated packages.\n",
      "Requirement already satisfied: psycopg[binary] in /opt/conda/envs/myenv/lib/python3.10/site-packages (3.0.11)\n",
      "Requirement already satisfied: psycopg-binary==3.0.11 in /opt/conda/envs/myenv/lib/python3.10/site-packages (from psycopg[binary]) (3.0.11)\n",
      "Note: you may need to restart the kernel to use updated packages.\n"
     ]
    }
   ],
   "source": [
    "%pip install h3\n",
    "%pip install tqdm\n",
    "%pip install psycopg[binary]"
   ]
  },
  {
   "cell_type": "code",
   "execution_count": 2,
   "metadata": {},
   "outputs": [],
   "source": [
    "import h3\n",
    "import tqdm\n",
    "import json\n",
    "import numpy as np\n",
    "import pandas as pd\n",
    "import asyncio\n",
    "import psycopg"
   ]
  },
  {
   "cell_type": "markdown",
   "metadata": {},
   "source": [
    "### Calculate Transit Accessibility Scores\n",
    "#### Cells\n",
    "* `-1`: geo cell, no station here\n",
    "* ` 0`: bus stop\n",
    "* ` 1`: tram / ferry stop\n",
    "* ` 2`: metro / s-tog station\n",
    "* ` 3`: train station\n",
    "\n",
    "#### About\n",
    "This notebook performs the transit accessibility score calculation on top of a postgres database."
   ]
  },
  {
   "cell_type": "code",
   "execution_count": 2,
   "metadata": {},
   "outputs": [],
   "source": [
    "H3_RES = 11\n",
    "HOURS = 24 * 7\n",
    "TRANSIT_TYPE = 2\n",
    "MAX_DISTANCE = 24"
   ]
  },
  {
   "cell_type": "code",
   "execution_count": 3,
   "metadata": {},
   "outputs": [],
   "source": [
    "DB_CONN = \"postgresql://postgres:byS*<7AxwYC#U24s@srv-captain--postgres-db-db/postgres\""
   ]
  },
  {
   "cell_type": "code",
   "execution_count": 133,
   "metadata": {},
   "outputs": [],
   "source": [
    "# reset scores in database\n",
    "async with await psycopg.AsyncConnection.connect(DB_CONN) as conn:\n",
    "    async with conn.cursor() as cursor:\n",
    "        await cursor.execute(f\"\"\"\n",
    "        update transit\n",
    "            set scores = array []::float4[], \n",
    "            visitors = array []::text[]\n",
    "            where cardinality(visitors) != 0\n",
    "        \"\"\")\n",
    "\n",
    "        await conn.commit()"
   ]
  },
  {
   "cell_type": "code",
   "execution_count": 4,
   "metadata": {},
   "outputs": [],
   "source": [
    "# for development only, select a specific h3_4 cell\n",
    "SELECTED_H3_4 = '841f059ffffffff'\n",
    "# SELECTED_H3_4_QUERY = f\"and h3_4 = '{SELECTED_H3_4}'\"\n",
    "SELECTED_H3_4_QUERY = \"\""
   ]
  },
  {
   "cell_type": "markdown",
   "metadata": {},
   "source": [
    "#### Load entrypoint (station) data"
   ]
  },
  {
   "cell_type": "code",
   "execution_count": 5,
   "metadata": {},
   "outputs": [],
   "source": [
    "# load all stops for a specific type from the database\n",
    "async with await psycopg.AsyncConnection.connect(DB_CONN) as conn:\n",
    "    async with conn.cursor() as cursor:\n",
    "        await cursor.execute(f\"\"\"\n",
    "        select * from transit\n",
    "            where type = {TRANSIT_TYPE}\n",
    "            {SELECTED_H3_4_QUERY}\n",
    "        \"\"\")\n",
    "\n",
    "        stations = await cursor.fetchall()"
   ]
  },
  {
   "cell_type": "code",
   "execution_count": 6,
   "metadata": {},
   "outputs": [],
   "source": [
    "# add all stations to a queue\n",
    "queue = asyncio.Queue()\n",
    "for station in stations:\n",
    "    # (station origin h3 cell, current h3 cell, scores array, distance)\n",
    "    await queue.put((station[0], station[0], station[3], 0))"
   ]
  },
  {
   "cell_type": "markdown",
   "metadata": {},
   "source": [
    "#### Main Functions"
   ]
  },
  {
   "cell_type": "code",
   "execution_count": 7,
   "metadata": {},
   "outputs": [],
   "source": [
    "# define formula here\n",
    "async def calc_score(origin_scores, distance, type):\n",
    "    result_scores = []\n",
    "    for score in origin_scores:\n",
    "        if score > 1 and distance < MAX_DISTANCE:\n",
    "            result_scores.append(score - 1)\n",
    "        else:\n",
    "            result_scores.append(0)\n",
    "    return result_scores"
   ]
  },
  {
   "cell_type": "code",
   "execution_count": 8,
   "metadata": {},
   "outputs": [],
   "source": [
    "async def update_scores(origin_h3, current_h3, scores, distance):\n",
    "    print(f\"\\rcalculating {current_h3}, dist={distance + 1}\")\n",
    "    # get h3 k-ring for origon_h3\n",
    "    neighbors = h3.k_ring(current_h3, k= 1)\n",
    "    neighbors.discard(current_h3)\n",
    "\n",
    "    # get neighbors from DB\n",
    "    async with await psycopg.AsyncConnection.connect(DB_CONN) as conn:\n",
    "        async with conn.cursor() as cursor:\n",
    "            await cursor.execute(\"\"\"\n",
    "                select h3 from transit\n",
    "                    where h3 = any(%s)\n",
    "                    and %s != all(visitors)\n",
    "            \"\"\", [list(neighbors), origin_h3])\n",
    "\n",
    "            db_neighbors = await cursor.fetchall()\n",
    "\n",
    "            # update scores for neighbors according to calc_score function\n",
    "            for neighbor in db_neighbors:\n",
    "                neighbor = neighbor[0]\n",
    "\n",
    "                score = await calc_score(scores, distance + 1, TRANSIT_TYPE)\n",
    "                if sum(score) > 0:\n",
    "                    await cursor.execute(f\"\"\"\n",
    "                        update transit\n",
    "                            set scores = array_cat(scores, array {score}),\n",
    "                            visitors = array_append(visitors, '{origin_h3}')\n",
    "                            where h3 = '{neighbor}'\n",
    "                    \"\"\")\n",
    "\n",
    "                    if distance < MAX_DISTANCE:\n",
    "                        await queue.put((origin_h3, neighbor, score, distance + 1))\n",
    "                    \n",
    "        await conn.commit()"
   ]
  },
  {
   "cell_type": "markdown",
   "metadata": {},
   "source": [
    "#### Execution Loop"
   ]
  },
  {
   "cell_type": "code",
   "execution_count": null,
   "metadata": {},
   "outputs": [],
   "source": [
    "while not queue.empty():\n",
    "    current = await queue.get()\n",
    "    await asyncio.gather(\n",
    "        update_scores(current[0], current[1], current[2], current[3])\n",
    "    )"
   ]
  },
  {
   "cell_type": "markdown",
   "metadata": {},
   "source": [
    "#### Aggregate results and export for visualization"
   ]
  },
  {
   "cell_type": "code",
   "execution_count": 140,
   "metadata": {},
   "outputs": [],
   "source": [
    "# get all h3_4 regions and perform the aggregation on a per-region basis\n",
    "async with await psycopg.AsyncConnection.connect(DB_CONN) as conn:\n",
    "    async with conn.cursor() as cursor:\n",
    "        await cursor.execute(\"\"\"\n",
    "        select distinct(h3_4) from transit\n",
    "        \"\"\")\n",
    "\n",
    "        h3_4_regions = await cursor.fetchall()"
   ]
  },
  {
   "cell_type": "code",
   "execution_count": 141,
   "metadata": {},
   "outputs": [],
   "source": [
    "h3_4_regions = list(map(lambda row: row[0], h3_4_regions))"
   ]
  },
  {
   "cell_type": "code",
   "execution_count": 142,
   "metadata": {},
   "outputs": [],
   "source": [
    "async def aggregate_region(h3_4):\n",
    "    # load the results for a single region\n",
    "    async with await psycopg.AsyncConnection.connect(DB_CONN) as conn:\n",
    "        async with conn.cursor() as cursor:\n",
    "            await cursor.execute(f\"\"\"\n",
    "            select h3_10, freq, scores, cardinality(visitors), type from transit\n",
    "                where h3_4 = '{h3_4}'\n",
    "                and cardinality(visitors) > 0\n",
    "                order by h3_10\n",
    "            \"\"\")\n",
    "\n",
    "            hexagons = await cursor.fetchall()\n",
    "            \n",
    "            result = [] # at res 10\n",
    "            for group in pd.DataFrame(hexagons, columns=['h3', 'freq', 'scores', 'cardinality', 'type']).groupby('h3'):\n",
    "                score_sum = np.array([0]*HOURS)\n",
    "                \n",
    "                # res 11\n",
    "                for idx, array in enumerate(group[1]['scores']):\n",
    "                    cardinality = group[1]['cardinality'].iloc[idx]\n",
    "                    # visitors for res 11 cell\n",
    "                    for subarray in np.array_split(array, cardinality):\n",
    "                        # overlap\n",
    "                        score_sum = np.add(score_sum, subarray)\n",
    "                    # frequency for res 11 (if stop)\n",
    "                    score_sum = np.add(score_sum, group[1]['freq'].iloc[idx])\n",
    "                # add aggregate result to overall result\n",
    "                result.append([group[0], max(group[1]['type']), list(score_sum / len(group[1]))])\n",
    "\n",
    "            pd.DataFrame(result, columns=['h3', 'type', 'freq']).to_json(f\"../docs/h3/{h3_4}.json\", orient='records')\n"
   ]
  },
  {
   "cell_type": "code",
   "execution_count": 143,
   "metadata": {},
   "outputs": [],
   "source": [
    "# export loop\n",
    "for h3_4 in h3_4_regions:\n",
    "    await asyncio.gather(\n",
    "        aggregate_region(h3_4)\n",
    "    )"
   ]
  }
 ],
 "metadata": {
  "interpreter": {
   "hash": "266e07f64aa3f1afd9991a0b824d04fa241a0ccb3b0a1eb69e96cbe416527717"
  },
  "kernelspec": {
   "display_name": "spylon-kernel",
   "language": "python",
   "name": "python3"
  },
  "language_info": {
   "codemirror_mode": {
    "name": "ipython",
    "version": 3
   },
   "file_extension": ".py",
   "mimetype": "text/x-python",
   "name": "python",
   "nbconvert_exporter": "python",
   "pygments_lexer": "ipython3",
   "version": "3.10.4"
  },
  "orig_nbformat": 4
 },
 "nbformat": 4,
 "nbformat_minor": 2
}
