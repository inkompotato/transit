{
 "cells": [
  {
   "cell_type": "code",
   "execution_count": 1,
   "metadata": {},
   "outputs": [
    {
     "name": "stdout",
     "output_type": "stream",
     "text": [
      "Collecting h3\n",
      "  Downloading h3-3.7.4-cp310-cp310-manylinux_2_17_x86_64.manylinux2014_x86_64.whl (1.1 MB)\n",
      "\u001b[2K     \u001b[90m━━━━━━━━━━━━━━━━━━━━━━━━━━━━━━━━━━━━━━━━\u001b[0m \u001b[32m1.1/1.1 MB\u001b[0m \u001b[31m14.1 MB/s\u001b[0m eta \u001b[36m0:00:00\u001b[0ma \u001b[36m0:00:01\u001b[0m\n",
      "\u001b[?25hInstalling collected packages: h3\n",
      "Successfully installed h3-3.7.4\n",
      "Note: you may need to restart the kernel to use updated packages.\n",
      "Collecting tqdm\n",
      "  Downloading tqdm-4.64.0-py2.py3-none-any.whl (78 kB)\n",
      "\u001b[2K     \u001b[90m━━━━━━━━━━━━━━━━━━━━━━━━━━━━━━━━━━━━━━━━\u001b[0m \u001b[32m78.4/78.4 KB\u001b[0m \u001b[31m2.3 MB/s\u001b[0m eta \u001b[36m0:00:00\u001b[0m\n",
      "\u001b[?25hInstalling collected packages: tqdm\n",
      "Successfully installed tqdm-4.64.0\n",
      "Note: you may need to restart the kernel to use updated packages.\n",
      "Collecting psycopg[binary]\n",
      "  Downloading psycopg-3.0.12-py3-none-any.whl (143 kB)\n",
      "\u001b[2K     \u001b[90m━━━━━━━━━━━━━━━━━━━━━━━━━━━━━━━━━━━━━━━\u001b[0m \u001b[32m143.1/143.1 KB\u001b[0m \u001b[31m8.9 MB/s\u001b[0m eta \u001b[36m0:00:00\u001b[0m\n",
      "\u001b[?25hCollecting psycopg-binary==3.0.12\n",
      "  Downloading psycopg_binary-3.0.12-cp310-cp310-manylinux_2_24_x86_64.whl (4.2 MB)\n",
      "\u001b[2K     \u001b[90m━━━━━━━━━━━━━━━━━━━━━━━━━━━━━━━━━━━━━━━━\u001b[0m \u001b[32m4.2/4.2 MB\u001b[0m \u001b[31m99.1 MB/s\u001b[0m eta \u001b[36m0:00:00\u001b[0m:00:01\u001b[0m\n",
      "\u001b[?25hInstalling collected packages: psycopg-binary, psycopg\n",
      "Successfully installed psycopg-3.0.12 psycopg-binary-3.0.12\n",
      "Note: you may need to restart the kernel to use updated packages.\n"
     ]
    }
   ],
   "source": [
    "%pip install h3\n",
    "%pip install tqdm\n",
    "%pip install psycopg[binary]"
   ]
  },
  {
   "cell_type": "code",
   "execution_count": 1,
   "metadata": {},
   "outputs": [],
   "source": [
    "import h3\n",
    "import numpy as np\n",
    "import pandas as pd\n",
    "import asyncio\n",
    "import psycopg\n",
    "import math\n",
    "import gc"
   ]
  },
  {
   "cell_type": "markdown",
   "metadata": {},
   "source": [
    "### Calculate Transit Accessibility Scores\n",
    "#### Cells\n",
    "* `-1`: geo cell, no station here\n",
    "* ` 0`: bus stop\n",
    "* ` 1`: tram / ferry stop\n",
    "* ` 2`: metro / s-tog station\n",
    "* ` 3`: train station\n",
    "\n",
    "#### Parameters\n",
    "* transit type multiplicator - stops of \"better\" modes of transit are given a higher initial score\n",
    "* urban / rual distance factor (accept higher distances in rual areas)\n",
    "* reach - what is the area of effect for a given transit type in hex cells (assume 40m for one res 11 hexagon)\n",
    "\n",
    "#### Score formula\n",
    "use a gaussian with score on y and distance on x\n",
    "\n",
    "#### About\n",
    "This notebook performs the transit accessibility score calculation on top of a postgres database."
   ]
  },
  {
   "cell_type": "code",
   "execution_count": 13,
   "metadata": {},
   "outputs": [
    {
     "name": "stdout",
     "output_type": "stream",
     "text": [
      "selected radius for transit type 0 is ~320m\n"
     ]
    }
   ],
   "source": [
    "H3_RES = 11\n",
    "HOURS = 24 * 7\n",
    "TRANSIT_TYPE = 0\n",
    "MAX_DISTANCE = 8\n",
    "\n",
    "SELECTED_TIMES = list(range(0, 24)) + list(range(96, HOURS))\n",
    "\n",
    "print(f\"selected radius for transit type {TRANSIT_TYPE} is ~{MAX_DISTANCE*40}m\")"
   ]
  },
  {
   "cell_type": "code",
   "execution_count": 4,
   "metadata": {},
   "outputs": [],
   "source": [
    "DB_CONN = \"postgresql://postgres:byS*<7AxwYC#U24s@srv-captain--postgres-db-db/postgres\""
   ]
  },
  {
   "cell_type": "code",
   "execution_count": 21,
   "metadata": {},
   "outputs": [],
   "source": [
    "# reset scores in database\n",
    "async with await psycopg.AsyncConnection.connect(DB_CONN) as conn:\n",
    "    async with conn.cursor() as cursor:\n",
    "        await cursor.execute(f\"\"\"\n",
    "        update transit\n",
    "            set scores = array []::float4[], \n",
    "            visitors = array []::text[]\n",
    "            where cardinality(visitors) != 0\n",
    "        \"\"\")\n",
    "\n",
    "        await conn.commit()"
   ]
  },
  {
   "cell_type": "code",
   "execution_count": 8,
   "metadata": {},
   "outputs": [],
   "source": [
    "# for development only, select a specific h3_4 cell\n",
    "SELECTED_H3_4 = '841f22bffffffff'\n",
    "SELECTED_H3_4_QUERY = f\"and h3_4 = '{SELECTED_H3_4}'\"\n",
    "# SELECTED_H3_4_QUERY = \"\""
   ]
  },
  {
   "cell_type": "markdown",
   "metadata": {},
   "source": [
    "#### Load entrypoint (station) data"
   ]
  },
  {
   "cell_type": "code",
   "execution_count": 9,
   "metadata": {},
   "outputs": [],
   "source": [
    "# load all stops for a specific type from the database\n",
    "async with await psycopg.AsyncConnection.connect(DB_CONN) as conn:\n",
    "    async with conn.cursor() as cursor:\n",
    "        await cursor.execute(f\"\"\"\n",
    "        select * from transit\n",
    "            where type = {TRANSIT_TYPE}\n",
    "            {SELECTED_H3_4_QUERY}\n",
    "        \"\"\")\n",
    "\n",
    "        stations = await cursor.fetchall()"
   ]
  },
  {
   "cell_type": "code",
   "execution_count": 16,
   "metadata": {},
   "outputs": [],
   "source": [
    "# add all stations to a queue\n",
    "queue = asyncio.Queue()\n",
    "for station in stations:\n",
    "    # (station origin h3 cell at lower res, current h3 cell, scores array, distance)\n",
    "    await queue.put((h3.h3_to_parent(station[0], 9), station[0], np.array(station[3])[SELECTED_TIMES], 0))"
   ]
  },
  {
   "cell_type": "markdown",
   "metadata": {},
   "source": [
    "#### Main Functions"
   ]
  },
  {
   "cell_type": "code",
   "execution_count": 17,
   "metadata": {},
   "outputs": [],
   "source": [
    "# define formula here\n",
    "async def calc_score(origin_scores, distance, type):\n",
    "    f = 0.01 if type > 1 else 0.02\n",
    "    # result_scores = []\n",
    "    # for score in origin_scores:\n",
    "    #     if score > 1 and distance < MAX_DISTANCE:\n",
    "    #         new_score = -0.01 * distance ** 2 + score\n",
    "    #     elif distance > MAX_DISTANCE and score > 0.1:\n",
    "    #         new_score = math.exp(MAX_DISTANCE - distance)\n",
    "    #     else:\n",
    "    #         new_score = 0\n",
    "    #     result_scores.append(new_score)\n",
    "    return list(map(lambda e: max(e - f * distance ** 2 , 0), origin_scores))"
   ]
  },
  {
   "cell_type": "code",
   "execution_count": 18,
   "metadata": {},
   "outputs": [],
   "source": [
    "async def update_scores(origin_h3, current_h3, scores, distance):\n",
    "    print(f\"calculating {current_h3}, dist={distance + 1}\", end=\"\\r\")\n",
    "    # get h3 k-ring for origon_h3\n",
    "    neighbors = h3.k_ring(current_h3, k= 1)\n",
    "    neighbors.discard(current_h3)\n",
    "\n",
    "    # get neighbors from DB\n",
    "    async with await psycopg.AsyncConnection.connect(DB_CONN) as conn:\n",
    "        async with conn.cursor() as cursor:\n",
    "            await cursor.execute(\"\"\"\n",
    "                select h3 from transit\n",
    "                    where h3 = any(%s)\n",
    "                    and %s != all(visitors)\n",
    "                    and cardinality(visitors) < 5\n",
    "            \"\"\", [list(neighbors), origin_h3])\n",
    "\n",
    "            db_neighbors = await cursor.fetchall()\n",
    "\n",
    "            # update scores for neighbors according to calc_score function\n",
    "            for neighbor in db_neighbors:\n",
    "                neighbor = neighbor[0]\n",
    "\n",
    "                score = await calc_score(scores, distance + 1, TRANSIT_TYPE)\n",
    "                if score[31] >= 1:\n",
    "                    await cursor.execute(f\"\"\"\n",
    "                        update transit\n",
    "                            set scores = array_cat(scores, array {score}),\n",
    "                            visitors = array_append(visitors, '{origin_h3}')\n",
    "                            where h3 = '{neighbor}'\n",
    "                    \"\"\")\n",
    "\n",
    "                    await queue.put((origin_h3, neighbor, score, distance + 1))\n",
    "        \n",
    "        await conn.commit()\n",
    "        del(db_neighbors)\n",
    "        gc.collect()"
   ]
  },
  {
   "cell_type": "markdown",
   "metadata": {},
   "source": [
    "#### Execution Loop"
   ]
  },
  {
   "cell_type": "code",
   "execution_count": 20,
   "metadata": {},
   "outputs": [
    {
     "name": "stdout",
     "output_type": "stream",
     "text": [
      "calculating 8b1f22a50a45fff, dist=3\r"
     ]
    },
    {
     "ename": "CancelledError",
     "evalue": "",
     "output_type": "error",
     "traceback": [
      "\u001b[0;31m---------------------------------------------------------------------------\u001b[0m",
      "\u001b[0;31mCancelledError\u001b[0m                            Traceback (most recent call last)",
      "\u001b[1;32m/home/jovyan/work/transit/notebooks/calculate_scores.ipynb Cell 15'\u001b[0m in \u001b[0;36m<cell line: 1>\u001b[0;34m()\u001b[0m\n\u001b[1;32m      <a href='vscode-notebook-cell://code.v2202103143410146133.quicksrv.de/home/jovyan/work/transit/notebooks/calculate_scores.ipynb#ch0000014vscode-remote?line=0'>1</a>\u001b[0m \u001b[39mwhile\u001b[39;00m \u001b[39mnot\u001b[39;00m queue\u001b[39m.\u001b[39mempty():\n\u001b[1;32m      <a href='vscode-notebook-cell://code.v2202103143410146133.quicksrv.de/home/jovyan/work/transit/notebooks/calculate_scores.ipynb#ch0000014vscode-remote?line=1'>2</a>\u001b[0m     current \u001b[39m=\u001b[39m \u001b[39mawait\u001b[39;00m queue\u001b[39m.\u001b[39mget()\n\u001b[0;32m----> <a href='vscode-notebook-cell://code.v2202103143410146133.quicksrv.de/home/jovyan/work/transit/notebooks/calculate_scores.ipynb#ch0000014vscode-remote?line=2'>3</a>\u001b[0m     \u001b[39mawait\u001b[39;00m asyncio\u001b[39m.\u001b[39mgather(\n\u001b[1;32m      <a href='vscode-notebook-cell://code.v2202103143410146133.quicksrv.de/home/jovyan/work/transit/notebooks/calculate_scores.ipynb#ch0000014vscode-remote?line=3'>4</a>\u001b[0m         update_scores(current[\u001b[39m0\u001b[39m], current[\u001b[39m1\u001b[39m], current[\u001b[39m2\u001b[39m], current[\u001b[39m3\u001b[39m])\n\u001b[1;32m      <a href='vscode-notebook-cell://code.v2202103143410146133.quicksrv.de/home/jovyan/work/transit/notebooks/calculate_scores.ipynb#ch0000014vscode-remote?line=4'>5</a>\u001b[0m     )\n",
      "\u001b[0;31mCancelledError\u001b[0m: "
     ]
    }
   ],
   "source": [
    "while not queue.empty():\n",
    "    current = await queue.get()\n",
    "    await asyncio.gather(\n",
    "        update_scores(current[0], current[1], current[2], current[3])\n",
    "    )"
   ]
  },
  {
   "cell_type": "markdown",
   "metadata": {},
   "source": [
    "#### Aggregate results and export for visualization"
   ]
  },
  {
   "cell_type": "code",
   "execution_count": 56,
   "metadata": {},
   "outputs": [],
   "source": [
    "# get all h3_4 regions and perform the aggregation on a per-region basis\n",
    "async with await psycopg.AsyncConnection.connect(DB_CONN) as conn:\n",
    "    async with conn.cursor() as cursor:\n",
    "        await cursor.execute(\"\"\"\n",
    "            select distinct(h3_4) from transit\n",
    "        \"\"\")\n",
    "\n",
    "        h3_4_regions = await cursor.fetchall()"
   ]
  },
  {
   "cell_type": "code",
   "execution_count": 57,
   "metadata": {},
   "outputs": [],
   "source": [
    "h3_4_regions = list(map(lambda row: row[0], h3_4_regions))"
   ]
  },
  {
   "cell_type": "code",
   "execution_count": 62,
   "metadata": {},
   "outputs": [],
   "source": [
    "async def aggregate_region(h3_4):\n",
    "    # load the results for a single region\n",
    "    async with await psycopg.AsyncConnection.connect(DB_CONN) as conn:\n",
    "        async with conn.cursor() as cursor:\n",
    "            await cursor.execute(f\"\"\"\n",
    "                select h3_10, freq, scores, cardinality(visitors), type from transit\n",
    "                    where h3_4 = '{h3_4}'\n",
    "                    and cardinality(visitors) > 0\n",
    "                    order by h3_10\n",
    "            \"\"\")\n",
    "\n",
    "            hexagons = await cursor.fetchall()\n",
    "            \n",
    "            result = [] # at res 10\n",
    "            for group in pd.DataFrame(hexagons, columns=['h3', 'freq', 'scores', 'cardinality', 'type']).groupby('h3'):\n",
    "                score_sum = np.array([0]*HOURS)\n",
    "                \n",
    "                # res 11\n",
    "                for idx, array in enumerate(group[1]['scores']):\n",
    "                    cardinality = group[1]['cardinality'].iloc[idx]\n",
    "                    # visitors for res 11 cell\n",
    "                    for subarray in np.array_split(array, cardinality):\n",
    "                        # overlap\n",
    "                        score_sum = np.add(score_sum, subarray)\n",
    "                    # frequency for res 11 (if stop)\n",
    "                    score_sum = np.add(score_sum, group[1]['freq'].iloc[idx])\n",
    "                # add aggregate result to overall result\n",
    "                result.append([group[0], max(group[1]['type']), list(score_sum / max(len(group[1]),1))])\n",
    "\n",
    "            pd.DataFrame(result, columns=['h3', 'type', 'freq']).to_json(f\"../docs/h3/{h3_4}.json\", orient='records')\n",
    "            del(hexagons)\n"
   ]
  },
  {
   "cell_type": "code",
   "execution_count": 64,
   "metadata": {},
   "outputs": [],
   "source": [
    "# export loop\n",
    "for h3_4 in h3_4_regions:\n",
    "    await asyncio.gather(\n",
    "        aggregate_region(h3_4)\n",
    "    )"
   ]
  }
 ],
 "metadata": {
  "interpreter": {
   "hash": "266e07f64aa3f1afd9991a0b824d04fa241a0ccb3b0a1eb69e96cbe416527717"
  },
  "kernelspec": {
   "display_name": "spylon-kernel",
   "language": "python",
   "name": "python3"
  },
  "language_info": {
   "codemirror_mode": {
    "name": "ipython",
    "version": 3
   },
   "file_extension": ".py",
   "mimetype": "text/x-python",
   "name": "python",
   "nbconvert_exporter": "python",
   "pygments_lexer": "ipython3",
   "version": "3.10.4"
  },
  "orig_nbformat": 4
 },
 "nbformat": 4,
 "nbformat_minor": 2
}
