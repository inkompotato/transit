{
 "cells": [
  {
   "cell_type": "code",
   "execution_count": 1,
   "metadata": {},
   "outputs": [],
   "source": [
    "import h3\n",
    "import tqdm\n",
    "import json\n",
    "import numpy as np\n",
    "import pandas as pd\n",
    "import asyncio\n",
    "import psycopg\n",
    "import math\n",
    "import gc"
   ]
  },
  {
   "cell_type": "code",
   "execution_count": 2,
   "metadata": {},
   "outputs": [],
   "source": [
    "H3_RES = 11\n",
    "HOURS = 24 * 7\n",
    "TRANSIT_TYPE = 0\n",
    "MAX_DISTANCE = 8\n",
    "\n",
    "DB_CONN = \"postgresql://postgres:byS*<7AxwYC#U24s@srv-captain--postgres-db-db/postgres\""
   ]
  },
  {
   "cell_type": "code",
   "execution_count": 5,
   "metadata": {},
   "outputs": [],
   "source": [
    "SELECTED_H3_4 = ['841f22bffffffff']"
   ]
  },
  {
   "cell_type": "code",
   "execution_count": 26,
   "metadata": {},
   "outputs": [],
   "source": [
    "# load all hexagons for a specific h3_4 area from the database\n",
    "\n",
    "async with await psycopg.AsyncConnection.connect(DB_CONN) as conn:\n",
    "    async with conn.cursor() as cursor:\n",
    "        await cursor.execute(\"\"\"\n",
    "        select h3, h3_10, type, freq from transit\n",
    "            where h3_4 = any(%s)\n",
    "        \"\"\", [SELECTED_H3_4])\n",
    "\n",
    "        hexagons = await cursor.fetchall()"
   ]
  },
  {
   "cell_type": "code",
   "execution_count": 27,
   "metadata": {},
   "outputs": [],
   "source": [
    "class Row:\n",
    "    h3: str\n",
    "    h3_10: str\n",
    "    transt_type: int\n",
    "    freq: list\n",
    "\n",
    "hexagons = np.array(hexagons, dtype=Row)"
   ]
  },
  {
   "cell_type": "code",
   "execution_count": 28,
   "metadata": {},
   "outputs": [],
   "source": [
    "unique_hexagons = set(hexagons[:,0])"
   ]
  },
  {
   "cell_type": "code",
   "execution_count": 29,
   "metadata": {},
   "outputs": [],
   "source": [
    "queue = asyncio.Queue()\n",
    "for elem in hexagons:\n",
    "    if elem[2] == TRANSIT_TYPE:\n",
    "        await queue.put((h3.h3_to_parent(elem[0], 9), elem[0], elem[3], 0))"
   ]
  },
  {
   "cell_type": "code",
   "execution_count": 30,
   "metadata": {},
   "outputs": [],
   "source": [
    "# define formula here\n",
    "async def calc_score(origin_scores, distance, type):\n",
    "    result_scores = []\n",
    "    for score in origin_scores:\n",
    "        if score > 1 and distance < MAX_DISTANCE:\n",
    "            new_score = -0.08 * distance ** 2 + score\n",
    "        elif distance > MAX_DISTANCE and score > 0.1:\n",
    "            new_score = math.exp(MAX_DISTANCE - distance)\n",
    "        else:\n",
    "            new_score = 0\n",
    "        result_scores.append(new_score)\n",
    "    return result_scores"
   ]
  },
  {
   "cell_type": "code",
   "execution_count": 33,
   "metadata": {},
   "outputs": [],
   "source": [
    "async def update_scores(origin_h3, current_h3, scores, distance):\n",
    "    print(f\"calculating {current_h3}, dist={distance + 1}\", end=\"\\r\")\n",
    "    # get h3 k-ring for origon_h3\n",
    "    neighbors = h3.k_ring(current_h3, k= 1)\n",
    "    neighbors.discard(current_h3)\n",
    "\n",
    "    actual_neighbors = neighbors.intersection(unique_hexagons)\n",
    "    return_map = {}\n",
    "    for neighbor in actual_neighbors:\n",
    "        score = await calc_score(scores, distance + 1, TRANSIT_TYPE)\n",
    "        if max(score) >= 1:\n",
    "            return_map[neighbor] = (origin_h3, score)\n",
    "            await queue.put((origin_h3, neighbor, score, distance + 1))\n",
    "\n",
    "    del(actual_neighbors)\n",
    "    gc.collect()\n",
    "    return return_map"
   ]
  },
  {
   "cell_type": "code",
   "execution_count": 36,
   "metadata": {},
   "outputs": [
    {
     "name": "stdout",
     "output_type": "stream",
     "text": [
      "calculating 8b1f22b86568fff, dist=1\r"
     ]
    },
    {
     "ename": "CancelledError",
     "evalue": "",
     "output_type": "error",
     "traceback": [
      "\u001b[0;31m---------------------------------------------------------------------------\u001b[0m",
      "\u001b[0;31mCancelledError\u001b[0m                            Traceback (most recent call last)",
      "\u001b[1;32m/home/jovyan/work/transit/notebooks/calculate_scores_local.ipynb Cell 10'\u001b[0m in \u001b[0;36m<cell line: 3>\u001b[0;34m()\u001b[0m\n\u001b[1;32m      <a href='vscode-notebook-cell://code.v2202103143410146133.quicksrv.de/home/jovyan/work/transit/notebooks/calculate_scores_local.ipynb#ch0000010vscode-remote?line=2'>3</a>\u001b[0m \u001b[39mwhile\u001b[39;00m \u001b[39mnot\u001b[39;00m queue\u001b[39m.\u001b[39mempty():\n\u001b[1;32m      <a href='vscode-notebook-cell://code.v2202103143410146133.quicksrv.de/home/jovyan/work/transit/notebooks/calculate_scores_local.ipynb#ch0000010vscode-remote?line=3'>4</a>\u001b[0m     current \u001b[39m=\u001b[39m \u001b[39mawait\u001b[39;00m queue\u001b[39m.\u001b[39mget()\n\u001b[0;32m----> <a href='vscode-notebook-cell://code.v2202103143410146133.quicksrv.de/home/jovyan/work/transit/notebooks/calculate_scores_local.ipynb#ch0000010vscode-remote?line=4'>5</a>\u001b[0m     res \u001b[39m=\u001b[39m \u001b[39mawait\u001b[39;00m asyncio\u001b[39m.\u001b[39mgather(\n\u001b[1;32m      <a href='vscode-notebook-cell://code.v2202103143410146133.quicksrv.de/home/jovyan/work/transit/notebooks/calculate_scores_local.ipynb#ch0000010vscode-remote?line=5'>6</a>\u001b[0m         update_scores(current[\u001b[39m0\u001b[39m], current[\u001b[39m1\u001b[39m], current[\u001b[39m2\u001b[39m], current[\u001b[39m3\u001b[39m])\n\u001b[1;32m      <a href='vscode-notebook-cell://code.v2202103143410146133.quicksrv.de/home/jovyan/work/transit/notebooks/calculate_scores_local.ipynb#ch0000010vscode-remote?line=6'>7</a>\u001b[0m     )\n",
      "\u001b[0;31mCancelledError\u001b[0m: "
     ]
    }
   ],
   "source": [
    "dump = []\n",
    "\n",
    "while not queue.empty():\n",
    "    current = await queue.get()\n",
    "    res = await asyncio.gather(\n",
    "        update_scores(current[0], current[1], current[2], current[3])\n",
    "    )"
   ]
  }
 ],
 "metadata": {
  "interpreter": {
   "hash": "266e07f64aa3f1afd9991a0b824d04fa241a0ccb3b0a1eb69e96cbe416527717"
  },
  "kernelspec": {
   "display_name": "Python 3.10.4 ('myenv')",
   "language": "python",
   "name": "python3"
  },
  "language_info": {
   "codemirror_mode": {
    "name": "ipython",
    "version": 3
   },
   "file_extension": ".py",
   "mimetype": "text/x-python",
   "name": "python",
   "nbconvert_exporter": "python",
   "pygments_lexer": "ipython3",
   "version": "3.10.4"
  },
  "orig_nbformat": 4
 },
 "nbformat": 4,
 "nbformat_minor": 2
}
